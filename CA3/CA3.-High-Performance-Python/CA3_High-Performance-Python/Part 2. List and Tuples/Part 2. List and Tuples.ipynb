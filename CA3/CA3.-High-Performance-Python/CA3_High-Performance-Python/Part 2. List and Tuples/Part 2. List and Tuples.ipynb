{
 "cells": [
  {
   "cell_type": "markdown",
   "metadata": {},
   "source": [
    "# **CA4. Multiprocessing**\n",
    "**Sulu Chi Yahir Benjamin\\\n",
    "Data Engineering\\\n",
    "Universidad Politécnica de Yucatán\\\n",
    "Ucú, Yucatán, México\\\n",
    "2109145@upy.edu.mx**\n",
    "\n",
    "\n",
    "# Part 2. List and Tuples"
   ]
  },
  {
   "cell_type": "markdown",
   "metadata": {},
   "source": [
    "\n",
    "8. In some cases, it is necessary to efficiently perform insertion or removal of elements\n",
    "both at the beginning and at the end of the collection. Measure the time for the\n",
    "following operations with N = 10 000, 20 000 y 30 000 elements:\\\n",
    "    a. Delete last element of a list via pop()\\\n",
    "    b. Delete first element of a list via pop(0)\\\n",
    "    c. Append 1 at the end of the list.\\\n",
    "    d. Insert 1 at the beginning of the list insert(0, 1)\\\n",
    "Make a table with your results. It should looks like table on Chapter 2: Pure Python\n",
    "Optimization (pp. 38) from the book G. Lenaro (2017). Python high Performance.\n",
    "Second Edition. UK: Packt Publishing Ltd."
   ]
  },
  {
   "cell_type": "code",
   "execution_count": 1,
   "metadata": {},
   "outputs": [
    {
     "name": "stdout",
     "output_type": "stream",
     "text": [
      "| N       | Delete last (µs) | Delete first (µs) | Append (µs) | Insert at start (µs) |\n",
      "|---------|-------------------|--------------------|-------------|-----------------------|\n",
      "| 10000   | 89.60             | 2539.80            | 91.40       | 6902.50               |\n",
      "| 20000   | 104.10            | 4764.20            | 176.10      | 17813.70              |\n",
      "| 30000   | 90.30             | 39238.30           | 1083.00     | 36600.30              |\n"
     ]
    }
   ],
   "source": [
    "import timeit\n",
    "\n",
    "# Number of elements in each test case\n",
    "Ns = [10000, 20000, 30000]\n",
    "\n",
    "# Operations to be measured\n",
    "operations = {\n",
    "    \"Delete last element (pop)\": \"lst.pop()\",\n",
    "    \"Delete first element (pop(0))\": \"lst.pop(0)\",\n",
    "    \"Append 1 at the end\": \"lst.append(1)\",\n",
    "    \"Insert 1 at the beginning\": \"lst.insert(0, 1)\"\n",
    "}\n",
    "\n",
    "# Initialize a dictionary to hold the results for each N\n",
    "results = {N: {} for N in Ns}\n",
    "\n",
    "# Measure time for each operation across different list sizes\n",
    "for N in Ns:\n",
    "    for description, operation in operations.items():\n",
    "        setup_code = f\"lst = list(range({N}))\"\n",
    "        # Measure the time taken to execute the operation 1000 times\n",
    "        time_taken = timeit.timeit(stmt=operation, setup=setup_code, number=1000)\n",
    "        # Store the time in microseconds\n",
    "        results[N][description] = time_taken * 1e6  # convert seconds to microseconds\n",
    "\n",
    "# Print results in a tabular format\n",
    "print(\"| N       | Delete last (µs) | Delete first (µs) | Append (µs) | Insert at start (µs) |\")\n",
    "print(\"|---------|-------------------|--------------------|-------------|-----------------------|\")\n",
    "for N in Ns:\n",
    "    print(f\"| {N:<7} | {results[N]['Delete last element (pop)']:<17.2f} | {results[N]['Delete first element (pop(0))']:<18.2f} | {results[N]['Append 1 at the end']:<11.2f} | {results[N]['Insert 1 at the beginning']:<21.2f} |\")\n"
   ]
  },
  {
   "cell_type": "markdown",
   "metadata": {},
   "source": [
    "9. Python provides a data structure with interesting properties in the collection.deque\n",
    "class. The word deque stands for double-ended queue because this data structure\n",
    "is designed to efficiently put and remove elements at the beginning and at the end\n",
    "of the collection. Evaluate the following methods with N = 10 000, 20 000 and 30\n",
    "000 elements:\\\n",
    "a. deque.pop()\\\n",
    "b. deque.popleft()\\\n",
    "c. deque.append(1)\\\n",
    "d. deque.appendleft(1)\\\n",
    "Make a table with your results. It should looks like table on pp. 39 on the same book\n",
    "as previous task. "
   ]
  },
  {
   "cell_type": "code",
   "execution_count": 2,
   "metadata": {},
   "outputs": [
    {
     "name": "stdout",
     "output_type": "stream",
     "text": [
      "| N       | pop() (µs) | popleft() (µs) | append(1) (µs) | appendleft(1) (µs) |\n",
      "|---------|------------|-----------------|-----------------|---------------------|\n",
      "| 10000   | 76.60       | 80.70           | 74.30           | 73.50               |\n",
      "| 20000   | 79.70       | 83.20           | 85.50           | 86.40               |\n",
      "| 30000   | 89.00       | 75.60           | 102.00          | 96.50               |\n"
     ]
    }
   ],
   "source": [
    "import timeit\n",
    "from collections import deque\n",
    "\n",
    "# Number of elements in each test case\n",
    "Ns = [10000, 20000, 30000]\n",
    "\n",
    "# Operations to be measured\n",
    "operations = {\n",
    "    \"pop()\": \"dq.pop()\",\n",
    "    \"popleft()\": \"dq.popleft()\",\n",
    "    \"append(1)\": \"dq.append(1)\",\n",
    "    \"appendleft(1)\": \"dq.appendleft(1)\"\n",
    "}\n",
    "\n",
    "# Initialize a dictionary to hold the results for each N\n",
    "results = {N: {} for N in Ns}\n",
    "\n",
    "# Measure time for each operation across different deque sizes\n",
    "for N in Ns:\n",
    "    for description, operation in operations.items():\n",
    "        setup_code = f\"from collections import deque; dq = deque(range({N}))\"\n",
    "        # Measure the time taken to execute the operation 1000 times\n",
    "        time_taken = timeit.timeit(stmt=operation, setup=setup_code, number=1000)\n",
    "        # Store the time in microseconds\n",
    "        results[N][description] = time_taken * 1e6  # convert seconds to microseconds\n",
    "\n",
    "# Print results in a tabular format\n",
    "print(\"| N       | pop() (µs) | popleft() (µs) | append(1) (µs) | appendleft(1) (µs) |\")\n",
    "print(\"|---------|------------|-----------------|-----------------|---------------------|\")\n",
    "for N in Ns:\n",
    "    print(f\"| {N:<7} | {results[N]['pop()']:<11.2f} | {results[N]['popleft()']:<15.2f} | {results[N]['append(1)']:<15.2f} | {results[N]['appendleft(1)']:<19.2f} |\")\n"
   ]
  },
  {
   "cell_type": "markdown",
   "metadata": {},
   "source": [
    "10. The efficiency gained by the appendleft and popleft comes at a cost: accesing an\n",
    "element in the middle of a deque is a O(N) operation. Evaluate the time for the next\n",
    "operations with with N = 10 000, 20 000 and 30 000 elements:\\\n",
    "a. deque[0]\\\n",
    "b. deque[N-1]\\\n",
    "c. deque[int(N/2)]\\\n",
    "**Make a table with your results. It should looks like table on pp. 39 on the same book\n",
    "as previous task.**"
   ]
  },
  {
   "cell_type": "code",
   "execution_count": 3,
   "metadata": {},
   "outputs": [
    {
     "name": "stdout",
     "output_type": "stream",
     "text": [
      "| N       | deque[0] (µs) | deque[N-1] (µs) | deque[int(N/2)] (µs) |\n",
      "|---------|----------------|------------------|------------------------|\n",
      "| 10000   | 69.90          | 88.10            | 406.40                 |\n",
      "| 20000   | 60.80          | 83.10            | 561.70                 |\n",
      "| 30000   | 72.90          | 80.50            | 882.80                 |\n"
     ]
    }
   ],
   "source": [
    "import timeit\n",
    "from collections import deque\n",
    "\n",
    "# Number of elements in each test case\n",
    "Ns = [10000, 20000, 30000]\n",
    "\n",
    "# Operations to be measured\n",
    "operations = {\n",
    "    \"deque[0]\": \"dq[0]\",\n",
    "    \"deque[N-1]\": \"dq[-1]\",\n",
    "    \"deque[int(N/2)]\": \"dq[int(N/2)]\"\n",
    "}\n",
    "\n",
    "# Initialize a dictionary to hold the results for each N\n",
    "results = {N: {} for N in Ns}\n",
    "\n",
    "# Measure time for each operation across different deque sizes\n",
    "for N in Ns:\n",
    "    for description, operation in operations.items():\n",
    "        setup_code = f\"from collections import deque; dq = deque(range({N})); N = {N}\"\n",
    "        # Measure the time taken to execute the operation 1000 times\n",
    "        time_taken = timeit.timeit(stmt=operation, setup=setup_code, number=1000)\n",
    "        # Store the time in microseconds\n",
    "        results[N][description] = time_taken * 1e6  # convert seconds to microseconds\n",
    "\n",
    "# Print results in a tabular format\n",
    "print(\"| N       | deque[0] (µs) | deque[N-1] (µs) | deque[int(N/2)] (µs) |\")\n",
    "print(\"|---------|----------------|------------------|------------------------|\")\n",
    "for N in Ns:\n",
    "    print(f\"| {N:<7} | {results[N]['deque[0]']:<14.2f} | {results[N]['deque[N-1]']:<16.2f} | {results[N]['deque[int(N/2)]']:<22.2f} |\")\n"
   ]
  },
  {
   "cell_type": "markdown",
   "metadata": {},
   "source": [
    "11. Explain what is Overallocation in lists. "
   ]
  },
  {
   "cell_type": "markdown",
   "metadata": {},
   "source": [
    "Python lists use overallocation to optimize appending elements by allocating more memory than immediately required. This reduces frequent memory reallocations as the list grows, enhancing performance. However, it may result in higher memory usage than strictly needed, balancing memory efficiency with faster append operations."
   ]
  }
 ],
 "metadata": {
  "kernelspec": {
   "display_name": "Python 3",
   "language": "python",
   "name": "python3"
  },
  "language_info": {
   "codemirror_mode": {
    "name": "ipython",
    "version": 3
   },
   "file_extension": ".py",
   "mimetype": "text/x-python",
   "name": "python",
   "nbconvert_exporter": "python",
   "pygments_lexer": "ipython3",
   "version": "3.10.11"
  }
 },
 "nbformat": 4,
 "nbformat_minor": 2
}
